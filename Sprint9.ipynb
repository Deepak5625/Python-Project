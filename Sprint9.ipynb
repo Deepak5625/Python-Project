{
 "cells": [
  {
   "cell_type": "code",
   "execution_count": null,
   "id": "c7ee8460-40cb-4a3b-9ff1-acbdaefb8ccc",
   "metadata": {},
   "outputs": [],
   "source": [
    "Task 1\n",
    "\n",
    "#Write a program to develop a simple console-based computer brain teaser, a riddle logic puzzle, text-based puzzles involving wordplay, logic, \n",
    "#and lateral thinking games in Python. The program will randomly choose a riddle question from a list of riddles (question-answer dictionary) \n",
    "#provided in the program. It will then prompt the user for an answer and compare it against the correct answer"
   ]
  },
  {
   "cell_type": "code",
   "execution_count": 1,
   "id": "f290634c-7de3-4b94-bfed-2ac1b1d77f64",
   "metadata": {},
   "outputs": [
    {
     "name": "stdout",
     "output_type": "stream",
     "text": [
      "Riddle: What can travel around the world while staying in a corner?\n"
     ]
    },
    {
     "name": "stdin",
     "output_type": "stream",
     "text": [
      "Your answer:  stamp\n"
     ]
    },
    {
     "name": "stdout",
     "output_type": "stream",
     "text": [
      "Correct!\n"
     ]
    }
   ],
   "source": [
    "import random\n",
    "\n",
    "def main():\n",
    "    riddles = {\n",
    "        \"What has keys but can't open locks?\": \"piano\",\n",
    "        \"I speak without a mouth and hear without ears. What am I?\": \"echo\",\n",
    "        \"The more of this there is, the less you see. What is it?\": \"darkness\",\n",
    "        \"What can travel around the world while staying in a corner?\": \"stamp\",\n",
    "        \"What has to be broken before you can use it?\": \"egg\"\n",
    "    }\n",
    "    \n",
    "    question, answer = random.choice(list(riddles.items()))\n",
    "    print(\"Riddle:\", question)\n",
    "    \n",
    "    user_answer = input(\"Your answer: \").strip().lower()\n",
    "    \n",
    "    if user_answer == answer:\n",
    "        print(\"Correct!\")\n",
    "    else:\n",
    "        print(\"Wrong! The correct answer is:\", answer)\n",
    "\n",
    "if __name__ == \"__main__\":\n",
    "    main()"
   ]
  },
  {
   "cell_type": "code",
   "execution_count": null,
   "id": "ca2701e1-84c5-425f-a485-2421af187c2e",
   "metadata": {},
   "outputs": [],
   "source": []
  },
  {
   "cell_type": "code",
   "execution_count": null,
   "id": "a58889e8-ac97-498d-b993-627788c19fb1",
   "metadata": {},
   "outputs": [],
   "source": [
    "#Task 1 (cont'd)\n",
    "\n",
    "#If the user's answer matches the correct one, the program will print 'Correct'. Otherwise, it will print 'Incorrect' and provide the correct answer. \n",
    "#The program will continue to run infinitely, allowing users to solve multiple riddles with the option to play again. \n",
    "#Upon exiting the game, the program should display the user's score as a percentage."
   ]
  },
  {
   "cell_type": "code",
   "execution_count": 3,
   "id": "56a4170b-695e-4d72-9a8f-f879b78976b2",
   "metadata": {},
   "outputs": [
    {
     "name": "stdout",
     "output_type": "stream",
     "text": [
      "\n",
      "Riddle: What has keys but can't open locks?\n"
     ]
    },
    {
     "name": "stdin",
     "output_type": "stream",
     "text": [
      "Your answer:  piano\n"
     ]
    },
    {
     "name": "stdout",
     "output_type": "stream",
     "text": [
      "Correct!\n"
     ]
    },
    {
     "name": "stdin",
     "output_type": "stream",
     "text": [
      "Play again? (yes/no):  no\n"
     ]
    },
    {
     "name": "stdout",
     "output_type": "stream",
     "text": [
      "\n",
      "Your score: 1/1 (100.00%)\n"
     ]
    }
   ],
   "source": [
    "import random\n",
    "\n",
    "def main():\n",
    "    riddles = {\n",
    "        \"What has keys but can't open locks?\": \"piano\",\n",
    "        \"I speak without a mouth and hear without ears. What am I?\": \"echo\",\n",
    "        \"The more of this there is, the less you see. What is it?\": \"darkness\",\n",
    "        \"What can travel around the world while staying in a corner?\": \"stamp\",\n",
    "        \"What has to be broken before you can use it?\": \"egg\"\n",
    "    }\n",
    "    \n",
    "    score = 0\n",
    "    total = 0\n",
    "\n",
    "    while True:\n",
    "        question, answer = random.choice(list(riddles.items()))\n",
    "        print(\"\\nRiddle:\", question)\n",
    "        \n",
    "        user_answer = input(\"Your answer: \").strip().lower()\n",
    "        \n",
    "        if user_answer == answer:\n",
    "            print(\"Correct!\")\n",
    "            score += 1\n",
    "        else:\n",
    "            print(f\"Incorrect! The correct answer is: {answer}\")\n",
    "        \n",
    "        total += 1\n",
    "\n",
    "        if input(\"Play again? (yes/no): \").strip().lower() != 'yes':\n",
    "            break\n",
    "\n",
    "    if total > 0:\n",
    "        print(f\"\\nYour score: {score}/{total} ({(score / total) * 100:.2f}%)\")\n",
    "\n",
    "if __name__ == \"__main__\":\n",
    "    main()\n"
   ]
  },
  {
   "cell_type": "code",
   "execution_count": null,
   "id": "8f5cf716-ccf9-4a84-96ec-bd3f97f7f273",
   "metadata": {},
   "outputs": [],
   "source": []
  },
  {
   "cell_type": "code",
   "execution_count": null,
   "id": "e8e1c3d5-01fe-40b7-84f0-9cb121819c97",
   "metadata": {},
   "outputs": [],
   "source": [
    "#Task 2\n",
    "\n",
    "#Write a program to develop a simple console-based computer brain teaser, an arithmetic logic puzzle, a problem-solving game in Python. \n",
    "#The program will randomly generate two numeric numbers within the range of1 to 20 and an arithmetic operator ('+', '-', '/', '*'). \n",
    "#The program will run infinite turns to solve the arithmetic puzzle with the option to play again. 13"
   ]
  },
  {
   "cell_type": "code",
   "execution_count": 4,
   "id": "0cb4a782-401e-44db-b211-18479764f23f",
   "metadata": {},
   "outputs": [
    {
     "name": "stdout",
     "output_type": "stream",
     "text": [
      "\n",
      "Solve: 104 / 8\n"
     ]
    },
    {
     "name": "stdin",
     "output_type": "stream",
     "text": [
      "Your answer:  89\n"
     ]
    },
    {
     "name": "stdout",
     "output_type": "stream",
     "text": [
      "Incorrect! The correct answer is: 13.0\n"
     ]
    },
    {
     "name": "stdin",
     "output_type": "stream",
     "text": [
      "Play again? (yes/no):  no\n"
     ]
    }
   ],
   "source": [
    "import random\n",
    "\n",
    "def main():\n",
    "    while True:\n",
    "        num1 = random.randint(1, 20)\n",
    "        num2 = random.randint(1, 20)\n",
    "        operator = random.choice(['+', '-', '*', '/'])\n",
    "        \n",
    "        # Ensure integer results for division\n",
    "        if operator == '/':\n",
    "            num1 = num1 * num2\n",
    "        \n",
    "        print(f\"\\nSolve: {num1} {operator} {num2}\")\n",
    "        \n",
    "        if operator == '+':\n",
    "            correct_answer = num1 + num2\n",
    "        elif operator == '-':\n",
    "            correct_answer = num1 - num2\n",
    "        elif operator == '*':\n",
    "            correct_answer = num1 * num2\n",
    "        elif operator == '/':\n",
    "            correct_answer = num1 / num2\n",
    "        \n",
    "        try:\n",
    "            user_answer = float(input(\"Your answer: \"))\n",
    "            if user_answer == correct_answer:\n",
    "                print(\"Correct!\")\n",
    "            else:\n",
    "                print(f\"Incorrect! The correct answer is: {correct_answer}\")\n",
    "        except ValueError:\n",
    "            print(\"Invalid input! Please enter a number.\")\n",
    "        \n",
    "        if input(\"Play again? (yes/no): \").strip().lower() != 'yes':\n",
    "            break\n",
    "\n",
    "if __name__ == \"__main__\":\n",
    "    main()\n"
   ]
  },
  {
   "cell_type": "code",
   "execution_count": null,
   "id": "ccabef4e-1e22-4486-8c2a-34a2abed89b3",
   "metadata": {},
   "outputs": [],
   "source": []
  },
  {
   "cell_type": "code",
   "execution_count": null,
   "id": "8277d93c-958c-4f1d-85f3-42a61e5f2540",
   "metadata": {},
   "outputs": [],
   "source": [
    "#Task 2 (cont'd)\n",
    "\n",
    "#The program should handle exceptions gracefully, such as invalid inputs when the user attempts to solve the puzzle. \n",
    "#The program should print the percentage of the score when the user leaves the game."
   ]
  },
  {
   "cell_type": "code",
   "execution_count": 6,
   "id": "cb69cdf2-7886-4fb3-bb5a-e5c9b158c00d",
   "metadata": {},
   "outputs": [
    {
     "name": "stdout",
     "output_type": "stream",
     "text": [
      "\n",
      "Solve: 3 * 15\n"
     ]
    },
    {
     "name": "stdin",
     "output_type": "stream",
     "text": [
      "Your answer:  45\n"
     ]
    },
    {
     "name": "stdout",
     "output_type": "stream",
     "text": [
      "Correct!\n"
     ]
    },
    {
     "name": "stdin",
     "output_type": "stream",
     "text": [
      "Play again? (yes/no):  no\n"
     ]
    },
    {
     "name": "stdout",
     "output_type": "stream",
     "text": [
      "\n",
      "Your score: 1/1 (100.00%)\n"
     ]
    }
   ],
   "source": [
    "import random\n",
    "\n",
    "def main():\n",
    "    score = 0\n",
    "    total = 0\n",
    "\n",
    "    while True:\n",
    "        num1 = random.randint(1, 20)\n",
    "        num2 = random.randint(1, 20)\n",
    "        operator = random.choice(['+', '-', '*', '/'])\n",
    "        if operator == '/':\n",
    "            num1 = num1 * num2\n",
    "        \n",
    "        print(f\"\\nSolve: {num1} {operator} {num2}\")\n",
    "        \n",
    "        if operator == '+':\n",
    "            correct_answer = num1 + num2\n",
    "        elif operator == '-':\n",
    "            correct_answer = num1 - num2\n",
    "        elif operator == '*':\n",
    "            correct_answer = num1 * num2\n",
    "        elif operator == '/':\n",
    "            correct_answer = num1 / num2\n",
    "        \n",
    "        try:\n",
    "            user_answer = float(input(\"Your answer: \"))\n",
    "            if user_answer == correct_answer:\n",
    "                print(\"Correct!\")\n",
    "                score += 1\n",
    "            else:\n",
    "                print(f\"Incorrect! The correct answer is: {correct_answer}\")\n",
    "        except ValueError:\n",
    "            print(\"Invalid input! Please enter a number.\")\n",
    "            continue\n",
    "        \n",
    "        total += 1\n",
    "        \n",
    "        if input(\"Play again? (yes/no): \").strip().lower() != 'yes':\n",
    "            if total > 0:\n",
    "                print(f\"\\nYour score: {score}/{total} ({(score / total) * 100:.2f}%)\")\n",
    "            break\n",
    "\n",
    "if __name__ == \"__main__\":\n",
    "    main()\n"
   ]
  },
  {
   "cell_type": "code",
   "execution_count": null,
   "id": "7e8239ff-72f8-44e6-8109-20778613bcd8",
   "metadata": {},
   "outputs": [],
   "source": []
  },
  {
   "cell_type": "code",
   "execution_count": null,
   "id": "65f9918d-10b0-436d-ad48-121cc4834d38",
   "metadata": {},
   "outputs": [],
   "source": [
    "#Task 3\n",
    "\n",
    "#Write a Python program to develop a General Knowledge quiz game. \n",
    "#Create four lists to store general knowledge questions of four categories: Science, Mathematics, Geography and others. \n",
    "#Each item in these lists is a dictionary with \"question\" and \"answer\" keys, as provided in the upcoming slide.\n",
    "#Ensure to include proper exception handling to handle invalid user inputs."
   ]
  },
  {
   "cell_type": "code",
   "execution_count": 8,
   "id": "86787fa0-5e09-4005-bed6-0e4240b753e7",
   "metadata": {},
   "outputs": [
    {
     "name": "stdout",
     "output_type": "stream",
     "text": [
      "Categories: Science, Mathematics, Geography, Others\n"
     ]
    },
    {
     "name": "stdin",
     "output_type": "stream",
     "text": [
      "Select a category (1-4):  1\n",
      "Chemical symbol for water?  h20\n"
     ]
    },
    {
     "name": "stdout",
     "output_type": "stream",
     "text": [
      "Wrong! The answer is: h2o\n"
     ]
    },
    {
     "name": "stdin",
     "output_type": "stream",
     "text": [
      "Red Planet?  mars\n"
     ]
    },
    {
     "name": "stdout",
     "output_type": "stream",
     "text": [
      "Correct!\n",
      "Your score: 1/2\n"
     ]
    }
   ],
   "source": [
    "def get_questions():\n",
    "    return {\n",
    "        \"Science\": [\n",
    "            {\"question\": \"Chemical symbol for water?\", \"answer\": \"h2o\"},\n",
    "            {\"question\": \"Red Planet?\", \"answer\": \"mars\"},\n",
    "        ],\n",
    "        \"Mathematics\": [\n",
    "            {\"question\": \"Square root of 64?\", \"answer\": \"8\"},\n",
    "            {\"question\": \"7 * 6?\", \"answer\": \"42\"},\n",
    "        ],\n",
    "        \"Geography\": [\n",
    "            {\"question\": \"Capital of France?\", \"answer\": \"paris\"},\n",
    "            {\"question\": \"Largest ocean?\", \"answer\": \"pacific\"},\n",
    "        ],\n",
    "        \"Others\": [\n",
    "            {\"question\": \"Color of the sky on a clear day?\", \"answer\": \"blue\"},\n",
    "            {\"question\": \"Days in a leap year?\", \"answer\": \"366\"},\n",
    "        ]\n",
    "    }\n",
    "\n",
    "def main():\n",
    "    questions = get_questions()\n",
    "    categories = list(questions.keys())\n",
    "    \n",
    "    print(\"Categories:\", \", \".join(categories))\n",
    "    try:\n",
    "        choice = int(input(\"Select a category (1-4): \")) - 1\n",
    "        if not (0 <= choice < len(categories)):\n",
    "            print(\"Invalid number.\")\n",
    "            return\n",
    "        category = categories[choice]\n",
    "    except ValueError:\n",
    "        print(\"Invalid input.\")\n",
    "        return\n",
    "\n",
    "    score = 0\n",
    "    for q in questions[category]:\n",
    "        answer = input(f\"{q['question']} \").strip().lower()\n",
    "        if answer == q['answer']:\n",
    "            print(\"Correct!\")\n",
    "            score += 1\n",
    "        else:\n",
    "            print(f\"Wrong! The answer is: {q['answer']}\")\n",
    "\n",
    "    print(f\"Your score: {score}/{len(questions[category])}\")\n",
    "\n",
    "if __name__ == \"__main__\":\n",
    "    main()\n"
   ]
  },
  {
   "cell_type": "code",
   "execution_count": null,
   "id": "260ea36c-78e5-422a-9961-1ba0085b9020",
   "metadata": {},
   "outputs": [],
   "source": []
  },
  {
   "cell_type": "code",
   "execution_count": null,
   "id": "aa867515-d52c-4be1-bb0a-606da44ba7b8",
   "metadata": {},
   "outputs": [],
   "source": [
    "Task 3 (cont'd)\n",
    "\n",
    "#The program should display questions based on the category selected by the user. \n",
    "#After the user submits an answer, the program should indicate whether it is correct. \n",
    "#If the answer provided by the user is incorrect, the program should display the correct answer"
   ]
  },
  {
   "cell_type": "code",
   "execution_count": 9,
   "id": "6bf0fe08-6c47-4b99-9aa5-c20422468fd5",
   "metadata": {},
   "outputs": [
    {
     "name": "stdout",
     "output_type": "stream",
     "text": [
      "Categories: Science, Mathematics, Geography, Others\n"
     ]
    },
    {
     "name": "stdin",
     "output_type": "stream",
     "text": [
      "Select a category (1-4):  1\n",
      "Chemical symbol for water?  h20\n"
     ]
    },
    {
     "name": "stdout",
     "output_type": "stream",
     "text": [
      "Wrong! The correct answer is: h2o\n"
     ]
    },
    {
     "name": "stdin",
     "output_type": "stream",
     "text": [
      "Red Planet?  mars\n"
     ]
    },
    {
     "name": "stdout",
     "output_type": "stream",
     "text": [
      "Correct!\n",
      "Your score: 1/2\n"
     ]
    }
   ],
   "source": [
    "def get_questions():\n",
    "    return {\n",
    "        \"Science\": [\n",
    "            {\"question\": \"Chemical symbol for water?\", \"answer\": \"h2o\"},\n",
    "            {\"question\": \"Red Planet?\", \"answer\": \"mars\"},\n",
    "        ],\n",
    "        \"Mathematics\": [\n",
    "            {\"question\": \"Square root of 64?\", \"answer\": \"8\"},\n",
    "            {\"question\": \"7 * 6?\", \"answer\": \"42\"},\n",
    "        ],\n",
    "        \"Geography\": [\n",
    "            {\"question\": \"Capital of France?\", \"answer\": \"paris\"},\n",
    "            {\"question\": \"Largest ocean?\", \"answer\": \"pacific\"},\n",
    "        ],\n",
    "        \"Others\": [\n",
    "            {\"question\": \"Color of the sky on a clear day?\", \"answer\": \"blue\"},\n",
    "            {\"question\": \"Days in a leap year?\", \"answer\": \"366\"},\n",
    "        ]\n",
    "    }\n",
    "\n",
    "def main():\n",
    "    questions = get_questions()\n",
    "    categories = list(questions.keys())\n",
    "\n",
    "    print(\"Categories:\", \", \".join(categories))\n",
    "    try:\n",
    "        choice = int(input(\"Select a category (1-4): \")) - 1\n",
    "        if not (0 <= choice < len(categories)):\n",
    "            print(\"Invalid number.\")\n",
    "            return\n",
    "        category = categories[choice]\n",
    "    except ValueError:\n",
    "        print(\"Invalid input.\")\n",
    "        return\n",
    "\n",
    "    score = 0\n",
    "    for q in questions[category]:\n",
    "        user_answer = input(f\"{q['question']} \").strip().lower()\n",
    "        if user_answer == q['answer']:\n",
    "            print(\"Correct!\")\n",
    "            score += 1\n",
    "        else:\n",
    "            print(f\"Wrong! The correct answer is: {q['answer']}\")\n",
    "\n",
    "    print(f\"Your score: {score}/{len(questions[category])}\")\n",
    "\n",
    "if __name__ == \"__main__\":\n",
    "    main()\n"
   ]
  },
  {
   "cell_type": "code",
   "execution_count": null,
   "id": "ed987116-985b-425e-9bbb-d49315f705ab",
   "metadata": {},
   "outputs": [],
   "source": []
  },
  {
   "cell_type": "code",
   "execution_count": null,
   "id": "5406e194-1cbc-4930-9e9d-dcf849cba1c6",
   "metadata": {},
   "outputs": [],
   "source": [
    "#Task 3 (cont'd)\n",
    "\n",
    "#List of questions and answers:\n",
    "\n",
    "#1. Science category:\n",
    "\n",
    "#a) Question: Which gas do plants absorb during photosynthesis?\n",
    "\n",
    "#Answer: Carbon dioxide\n",
    "\n",
    "#b) Question: What is the full name of the WWW? \n",
    "\n",
    "#Answer: World Wide Web\n",
    "\n",
    "#c) Question: How many bones are there in the adult human body?\n",
    "\n",
    "#Answer: 206\n"
   ]
  },
  {
   "cell_type": "code",
   "execution_count": 10,
   "id": "230e1c8e-50c3-4c88-b344-145a55c22dcf",
   "metadata": {},
   "outputs": [
    {
     "name": "stdout",
     "output_type": "stream",
     "text": [
      "Category: Science\n"
     ]
    },
    {
     "name": "stdin",
     "output_type": "stream",
     "text": [
      "Which gas do plants absorb during photosynthesis?  carbon dioxide\n"
     ]
    },
    {
     "name": "stdout",
     "output_type": "stream",
     "text": [
      "Correct!\n"
     ]
    },
    {
     "name": "stdin",
     "output_type": "stream",
     "text": [
      "What is the full name of the WWW?  world wide web\n"
     ]
    },
    {
     "name": "stdout",
     "output_type": "stream",
     "text": [
      "Correct!\n"
     ]
    },
    {
     "name": "stdin",
     "output_type": "stream",
     "text": [
      "How many bones are there in the adult human body?  206\n"
     ]
    },
    {
     "name": "stdout",
     "output_type": "stream",
     "text": [
      "Correct!\n",
      "Your score: 3/3\n"
     ]
    }
   ],
   "source": [
    "def get_questions():\n",
    "    return {\n",
    "        \"Science\": [\n",
    "            {\"question\": \"Which gas do plants absorb during photosynthesis?\", \"answer\": \"carbon dioxide\"},\n",
    "            {\"question\": \"What is the full name of the WWW?\", \"answer\": \"world wide web\"},\n",
    "            {\"question\": \"How many bones are there in the adult human body?\", \"answer\": \"206\"},\n",
    "        ]\n",
    "    }\n",
    "\n",
    "def main():\n",
    "    questions = get_questions()\n",
    "    category = \"Science\"\n",
    "    \n",
    "    print(\"Category:\", category)\n",
    "    score = 0\n",
    "    for q in questions[category]:\n",
    "        user_answer = input(f\"{q['question']} \").strip().lower()\n",
    "        if user_answer == q['answer']:\n",
    "            print(\"Correct!\")\n",
    "            score += 1\n",
    "        else:\n",
    "            print(f\"Wrong! The correct answer is: {q['answer']}\")\n",
    "    \n",
    "    print(f\"Your score: {score}/{len(questions[category])}\")\n",
    "\n",
    "if __name__ == \"__main__\":\n",
    "    main()"
   ]
  },
  {
   "cell_type": "code",
   "execution_count": null,
   "id": "9595f758-11f9-4e76-8eb2-e970f8cfdf89",
   "metadata": {},
   "outputs": [],
   "source": []
  },
  {
   "cell_type": "code",
   "execution_count": null,
   "id": "0c6ab939-ee8a-4207-99c2-62fd2f5f2943",
   "metadata": {},
   "outputs": [],
   "source": [
    "#Task 3 (cont'd)\n",
    "\n",
    "#2. Mathematics category:\n",
    "\n",
    "#a) Question: What is the only even prime number?\n",
    "\n",
    "#Answer: 2\n",
    "\n",
    "#b) Question: What is the sum of the first 5 natural numbers?\n",
    "\n",
    "#Answer: 15\n",
    "\n",
    "#c) Question: What is the name of the mathematical symbol π?\n",
    "\n",
    "#Answer: Pi"
   ]
  },
  {
   "cell_type": "code",
   "execution_count": 11,
   "id": "2268a92a-bb69-4634-a84e-000912e93948",
   "metadata": {},
   "outputs": [
    {
     "name": "stdin",
     "output_type": "stream",
     "text": [
      "What is the only even prime number?  2\n"
     ]
    },
    {
     "name": "stdout",
     "output_type": "stream",
     "text": [
      "Correct!\n"
     ]
    },
    {
     "name": "stdin",
     "output_type": "stream",
     "text": [
      "What is the sum of the first 5 natural numbers?  15\n"
     ]
    },
    {
     "name": "stdout",
     "output_type": "stream",
     "text": [
      "Correct!\n"
     ]
    },
    {
     "name": "stdin",
     "output_type": "stream",
     "text": [
      "What is the name of the mathematical symbol π?  pi\n"
     ]
    },
    {
     "name": "stdout",
     "output_type": "stream",
     "text": [
      "Correct!\n",
      "Your score: 3/3\n"
     ]
    }
   ],
   "source": [
    "def get_questions():\n",
    "    return [\n",
    "        {\"question\": \"What is the only even prime number?\", \"answer\": \"2\"},\n",
    "        {\"question\": \"What is the sum of the first 5 natural numbers?\", \"answer\": \"15\"},\n",
    "        {\"question\": \"What is the name of the mathematical symbol π?\", \"answer\": \"pi\"},\n",
    "    ]\n",
    "\n",
    "def main():\n",
    "    questions = get_questions()\n",
    "    score = 0\n",
    "\n",
    "    for q in questions:\n",
    "        answer = input(f\"{q['question']} \").strip().lower()\n",
    "        if answer == q['answer']:\n",
    "            print(\"Correct!\")\n",
    "            score += 1\n",
    "        else:\n",
    "            print(f\"Wrong! The correct answer is: {q['answer']}\")\n",
    "\n",
    "    print(f\"Your score: {score}/{len(questions)}\")\n",
    "\n",
    "if __name__ == \"__main__\":\n",
    "    main()\n"
   ]
  },
  {
   "cell_type": "code",
   "execution_count": null,
   "id": "0f43391b-8ab6-4352-bf13-bf235eac8ad6",
   "metadata": {},
   "outputs": [],
   "source": []
  },
  {
   "cell_type": "code",
   "execution_count": null,
   "id": "054c105e-75d8-4015-98fb-e0b8a269b04d",
   "metadata": {},
   "outputs": [],
   "source": [
    "Task 3 (cont'd)\n",
    "\n",
    "3. Geography category:\n",
    "\n",
    "a) Question: What is the tallest mountain on Earth?\n",
    "\n",
    "Answer: Mount Everest\n",
    "\n",
    "b) Question: What is the capital of France?\n",
    "\n",
    "Answer: Paris\n",
    "\n",
    "c) Question: Which planet is known as the 'Red Planet'?\n",
    "\n",
    "Answer: Mars"
   ]
  },
  {
   "cell_type": "code",
   "execution_count": 15,
   "id": "321157dd-9eba-494c-99c5-303fb8d506e4",
   "metadata": {},
   "outputs": [
    {
     "name": "stdin",
     "output_type": "stream",
     "text": [
      "What is the tallest mountain on Earth?  mount everest\n"
     ]
    },
    {
     "name": "stdout",
     "output_type": "stream",
     "text": [
      "Correct!\n"
     ]
    },
    {
     "name": "stdin",
     "output_type": "stream",
     "text": [
      "What is the capital of France?  paris\n"
     ]
    },
    {
     "name": "stdout",
     "output_type": "stream",
     "text": [
      "Correct!\n"
     ]
    },
    {
     "name": "stdin",
     "output_type": "stream",
     "text": [
      "Which planet is known as the 'Red Planet'?  mars\n"
     ]
    },
    {
     "name": "stdout",
     "output_type": "stream",
     "text": [
      "Correct!\n",
      "Your score: 3/3\n"
     ]
    }
   ],
   "source": [
    "def get_questions():\n",
    "    return [\n",
    "        {\"question\": \"What is the tallest mountain on Earth?\", \"answer\": \"mount everest\"},\n",
    "        {\"question\": \"What is the capital of France?\", \"answer\": \"paris\"},\n",
    "        {\"question\": \"Which planet is known as the 'Red Planet'?\", \"answer\": \"mars\"},\n",
    "    ]\n",
    "\n",
    "def main():\n",
    "    questions = get_questions()\n",
    "    score = 0\n",
    "\n",
    "    for q in questions:\n",
    "        answer = input(f\"{q['question']} \").strip().lower()\n",
    "        if answer == q['answer']:\n",
    "            print(\"Correct!\")\n",
    "            score += 1\n",
    "        else:\n",
    "            print(f\"Wrong! The correct answer is: {q['answer']}\")\n",
    "\n",
    "    print(f\"Your score: {score}/{len(questions)}\")\n",
    "\n",
    "if __name__ == \"__main__\":\n",
    "    main()\n"
   ]
  },
  {
   "cell_type": "code",
   "execution_count": null,
   "id": "5d8eeb2f-1c82-4ec6-be07-71b3ae4a7d5a",
   "metadata": {},
   "outputs": [],
   "source": []
  },
  {
   "cell_type": "code",
   "execution_count": null,
   "id": "c89642f1-d92c-4da3-831f-444193cfa72b",
   "metadata": {},
   "outputs": [],
   "source": [
    "#Task 3 (cont'd)\n",
    "\n",
    "#4. Others:\n",
    "\n",
    "#a) Question: Which country won the most recent FIFA World Cup (as of 2022)?\n",
    "\n",
    "#Answer: Argentina\n",
    "\n",
    "#b) Question: Who invented the light bulb?\n",
    "\n",
    "#Answer: Thomas Edison\n",
    "\n",
    "#c) Question: In what year did India declare itself a Democratic and Republic state with the adoption of the Constitution?\n",
    "\n",
    "#Answer: 1950\n"
   ]
  },
  {
   "cell_type": "code",
   "execution_count": 16,
   "id": "441107c3-ff6a-4f8f-b0bd-efb1eba991be",
   "metadata": {},
   "outputs": [
    {
     "name": "stdin",
     "output_type": "stream",
     "text": [
      "Which country won the most recent FIFA World Cup (as of 2022)?  argentina\n"
     ]
    },
    {
     "name": "stdout",
     "output_type": "stream",
     "text": [
      "Correct!\n"
     ]
    },
    {
     "name": "stdin",
     "output_type": "stream",
     "text": [
      "Who invented the light bulb?  thomas edison\n"
     ]
    },
    {
     "name": "stdout",
     "output_type": "stream",
     "text": [
      "Correct!\n"
     ]
    },
    {
     "name": "stdin",
     "output_type": "stream",
     "text": [
      "In what year did India declare itself a Democratic and Republic state with the adoption of the Constitution?  1950\n"
     ]
    },
    {
     "name": "stdout",
     "output_type": "stream",
     "text": [
      "Correct!\n",
      "Your score: 3/3\n"
     ]
    }
   ],
   "source": [
    "def get_questions():\n",
    "    return [\n",
    "        {\"question\": \"Which country won the most recent FIFA World Cup (as of 2022)?\", \"answer\": \"argentina\"},\n",
    "        {\"question\": \"Who invented the light bulb?\", \"answer\": \"thomas edison\"},\n",
    "        {\"question\": \"In what year did India declare itself a Democratic and Republic state with the adoption of the Constitution?\", \"answer\": \"1950\"},\n",
    "    ]\n",
    "\n",
    "def main():\n",
    "    questions = get_questions()\n",
    "    score = 0\n",
    "\n",
    "    for q in questions:\n",
    "        answer = input(f\"{q['question']} \").strip().lower()\n",
    "        if answer == q['answer']:\n",
    "            print(\"Correct!\")\n",
    "            score += 1\n",
    "        else:\n",
    "            print(f\"Wrong! The correct answer is: {q['answer']}\")\n",
    "\n",
    "    print(f\"Your score: {score}/{len(questions)}\")\n",
    "\n",
    "if __name__ == \"__main__\":\n",
    "    main()\n"
   ]
  },
  {
   "cell_type": "code",
   "execution_count": null,
   "id": "e2755868-589f-449a-9a2f-6bb28f02d5d6",
   "metadata": {},
   "outputs": [],
   "source": []
  },
  {
   "cell_type": "code",
   "execution_count": null,
   "id": "34950a1d-66ce-4c54-9abd-f24c6c814ae8",
   "metadata": {},
   "outputs": [],
   "source": [
    "#Task 3 (cont'd)\n",
    "\n",
    "#Create the following methods for game logic:\n",
    "\n",
    "#ask_category(): Presents category options for the user to choose from.\n",
    "\n",
    "#ask_question(question): Displays a given question and prompts the user for an answer.\n",
    "\n",
    "#check_answer(user_answer, correct_answer): Compares the user's answer with the correct answer and provides feedback"
   ]
  },
  {
   "cell_type": "code",
   "execution_count": 18,
   "id": "419c1a1b-000f-44e1-8fda-61a44775c302",
   "metadata": {},
   "outputs": [
    {
     "name": "stdout",
     "output_type": "stream",
     "text": [
      "Categories: Science, Mathematics, Geography, Others\n"
     ]
    },
    {
     "name": "stdin",
     "output_type": "stream",
     "text": [
      "Select a category:  Others\n",
      "Which country won the most recent FIFA World Cup (as of 2022)?  argentina\n"
     ]
    },
    {
     "name": "stdout",
     "output_type": "stream",
     "text": [
      "Correct!\n"
     ]
    },
    {
     "name": "stdin",
     "output_type": "stream",
     "text": [
      "Who invented the light bulb?  thomas edison\n"
     ]
    },
    {
     "name": "stdout",
     "output_type": "stream",
     "text": [
      "Correct!\n"
     ]
    },
    {
     "name": "stdin",
     "output_type": "stream",
     "text": [
      "In what year did India declare itself a Democratic and Republic state with the adoption of the Constitution?  1950\n"
     ]
    },
    {
     "name": "stdout",
     "output_type": "stream",
     "text": [
      "Correct!\n",
      "Your score: 3/3\n"
     ]
    }
   ],
   "source": [
    "def get_questions():\n",
    "    return {\n",
    "        \"Science\": [\n",
    "            {\"question\": \"Which gas do plants absorb during photosynthesis?\", \"answer\": \"carbon dioxide\"},\n",
    "            {\"question\": \"What is the full name of the WWW?\", \"answer\": \"world wide web\"},\n",
    "            {\"question\": \"How many bones are there in the adult human body?\", \"answer\": \"206\"},\n",
    "        ],\n",
    "        \"Mathematics\": [\n",
    "            {\"question\": \"What is the only even prime number?\", \"answer\": \"2\"},\n",
    "            {\"question\": \"What is the sum of the first 5 natural numbers?\", \"answer\": \"15\"},\n",
    "            {\"question\": \"What is the name of the mathematical symbol π?\", \"answer\": \"pi\"},\n",
    "        ],\n",
    "        \"Geography\": [\n",
    "            {\"question\": \"What is the tallest mountain on Earth?\", \"answer\": \"mount everest\"},\n",
    "            {\"question\": \"What is the capital of France?\", \"answer\": \"paris\"},\n",
    "            {\"question\": \"Which planet is known as the 'Red Planet'?\", \"answer\": \"mars\"},\n",
    "        ],\n",
    "        \"Others\": [\n",
    "            {\"question\": \"Which country won the most recent FIFA World Cup (as of 2022)?\", \"answer\": \"argentina\"},\n",
    "            {\"question\": \"Who invented the light bulb?\", \"answer\": \"thomas edison\"},\n",
    "            {\"question\": \"In what year did India declare itself a Democratic and Republic state with the adoption of the Constitution?\", \"answer\": \"1950\"},\n",
    "        ]\n",
    "    }\n",
    "\n",
    "def ask_category():\n",
    "    categories = list(get_questions().keys())\n",
    "    print(\"Categories:\", \", \".join(categories))\n",
    "    choice = input(\"Select a category: \").strip()\n",
    "    return choice if choice in categories else None\n",
    "\n",
    "def ask_question(question):\n",
    "    return input(f\"{question} \").strip().lower()\n",
    "\n",
    "def check_answer(user_answer, correct_answer):\n",
    "    if user_answer == correct_answer:\n",
    "        print(\"Correct!\")\n",
    "        return True\n",
    "    print(f\"Wrong! The correct answer is: {correct_answer}\")\n",
    "    return False\n",
    "\n",
    "def main():\n",
    "    category = ask_category()\n",
    "    if not category:\n",
    "        print(\"Invalid category.\")\n",
    "        return\n",
    "\n",
    "    questions = get_questions().get(category, [])\n",
    "    score = 0\n",
    "\n",
    "    for q in questions:\n",
    "        if check_answer(ask_question(q[\"question\"]), q[\"answer\"]):\n",
    "            score += 1\n",
    "\n",
    "    print(f\"Your score: {score}/{len(questions)}\")\n",
    "\n",
    "if __name__ == \"__main__\":\n",
    "    main()\n"
   ]
  },
  {
   "cell_type": "code",
   "execution_count": null,
   "id": "8fee1b40-5f0f-4e9a-8fd4-1d0bf11df10a",
   "metadata": {},
   "outputs": [],
   "source": []
  },
  {
   "cell_type": "code",
   "execution_count": null,
   "id": "13f883c6-9c3b-4a39-aa6c-e1fa2661bf1b",
   "metadata": {},
   "outputs": [],
   "source": [
    "#Task 3 (cont'd)\n",
    "\n",
    "#display_score(questions, score): Prints a summary of the\n",
    "\n",
    "#player's performance, including correct answers, total questions, and percentage of correct responses. \n",
    "#exec_questions(questions): Iterates through a given set of questions, handles user interactions, and keeps track of the score"
   ]
  },
  {
   "cell_type": "code",
   "execution_count": 20,
   "id": "0b998359-9ef2-4d13-a291-52edbadad638",
   "metadata": {},
   "outputs": [
    {
     "name": "stdout",
     "output_type": "stream",
     "text": [
      "Categories: Science, Mathematics, Geography, Others\n"
     ]
    },
    {
     "name": "stdin",
     "output_type": "stream",
     "text": [
      "Select a category:  Geography\n",
      "What is the tallest mountain on Earth?  mount everest\n"
     ]
    },
    {
     "name": "stdout",
     "output_type": "stream",
     "text": [
      "Correct!\n"
     ]
    },
    {
     "name": "stdin",
     "output_type": "stream",
     "text": [
      "What is the capital of France?  paris\n"
     ]
    },
    {
     "name": "stdout",
     "output_type": "stream",
     "text": [
      "Correct!\n"
     ]
    },
    {
     "name": "stdin",
     "output_type": "stream",
     "text": [
      "Which planet is known as the 'Red Planet'?  mars\n"
     ]
    },
    {
     "name": "stdout",
     "output_type": "stream",
     "text": [
      "Correct!\n",
      "Your score: 3/3 (100.00%)\n"
     ]
    }
   ],
   "source": [
    "def get_questions():\n",
    "    return {\n",
    "        \"Science\": [\n",
    "            {\"question\": \"Which gas do plants absorb during photosynthesis?\", \"answer\": \"carbon dioxide\"},\n",
    "            {\"question\": \"What is the full name of the WWW?\", \"answer\": \"world wide web\"},\n",
    "            {\"question\": \"How many bones are there in the adult human body?\", \"answer\": \"206\"},\n",
    "        ],\n",
    "        \"Mathematics\": [\n",
    "            {\"question\": \"What is the only even prime number?\", \"answer\": \"2\"},\n",
    "            {\"question\": \"What is the sum of the first 5 natural numbers?\", \"answer\": \"15\"},\n",
    "            {\"question\": \"What is the name of the mathematical symbol π?\", \"answer\": \"pi\"},\n",
    "        ],\n",
    "        \"Geography\": [\n",
    "            {\"question\": \"What is the tallest mountain on Earth?\", \"answer\": \"mount everest\"},\n",
    "            {\"question\": \"What is the capital of France?\", \"answer\": \"paris\"},\n",
    "            {\"question\": \"Which planet is known as the 'Red Planet'?\", \"answer\": \"mars\"},\n",
    "        ],\n",
    "        \"Others\": [\n",
    "            {\"question\": \"Which country won the most recent FIFA World Cup (as of 2022)?\", \"answer\": \"argentina\"},\n",
    "            {\"question\": \"Who invented the light bulb?\", \"answer\": \"thomas edison\"},\n",
    "            {\"question\": \"In what year did India declare itself a Democratic and Republic state with the adoption of the Constitution?\", \"answer\": \"1950\"},\n",
    "        ]\n",
    "    }\n",
    "\n",
    "def ask_category():\n",
    "    print(\"Categories:\", \", \".join(get_questions().keys()))\n",
    "    return input(\"Select a category: \").strip()\n",
    "\n",
    "def ask_question(question):\n",
    "    return input(f\"{question} \").strip().lower()\n",
    "\n",
    "def check_answer(user_answer, correct_answer):\n",
    "    if user_answer == correct_answer:\n",
    "        print(\"Correct!\")\n",
    "        return True\n",
    "    print(f\"Wrong! The correct answer is: {correct_answer}\")\n",
    "    return False\n",
    "\n",
    "def display_score(score, total):\n",
    "    print(f\"Your score: {score}/{total} ({(score/total)*100:.2f}%)\")\n",
    "\n",
    "def exec_questions(questions):\n",
    "    score = sum(check_answer(ask_question(q[\"question\"]), q[\"answer\"]) for q in questions)\n",
    "    display_score(score, len(questions))\n",
    "\n",
    "def main():\n",
    "    category = ask_category()\n",
    "    questions = get_questions().get(category, [])\n",
    "    if questions:\n",
    "        exec_questions(questions)\n",
    "    else:\n",
    "        print(\"Invalid category.\")\n",
    "\n",
    "if __name__ == \"__main__\":\n",
    "    main()\n"
   ]
  },
  {
   "cell_type": "code",
   "execution_count": null,
   "id": "b733eedb-6d84-4df5-8c7c-91eb7f522433",
   "metadata": {},
   "outputs": [],
   "source": []
  },
  {
   "cell_type": "code",
   "execution_count": null,
   "id": "e5e82a92-9cde-48b5-9491-6be9f4e4ebc2",
   "metadata": {},
   "outputs": [],
   "source": [
    "#Task 3 (cont'd)\n",
    "\n",
    "#play_game(): Manages the main game loop, including category selection, question execution, and the option to play again.\n",
    "\n",
    "#Incorporate exception handling to ensure the program gracefully handles invalid inputs and unexpected errors."
   ]
  },
  {
   "cell_type": "code",
   "execution_count": 2,
   "id": "4e3b4226-533b-45b3-af4a-2e1ff1ec6aba",
   "metadata": {},
   "outputs": [
    {
     "name": "stdin",
     "output_type": "stream",
     "text": [
      "Select a category (Science, Math, Geography, Others) or 'exit' to quit:  others\n",
      "Who invented the light bulb?  thomas edison\n",
      "Which country won the 2022 FIFA World Cup?  argentina'\n",
      "In what year did India declare itself a Democratic and Republic state with the adoption of the Constitution?  1950\n"
     ]
    },
    {
     "name": "stdout",
     "output_type": "stream",
     "text": [
      "Score: 2/3\n"
     ]
    },
    {
     "name": "stdin",
     "output_type": "stream",
     "text": [
      "Select a category (Science, Math, Geography, Others) or 'exit' to quit:  quit\n"
     ]
    },
    {
     "name": "stdout",
     "output_type": "stream",
     "text": [
      "Invalid category.\n"
     ]
    },
    {
     "name": "stdin",
     "output_type": "stream",
     "text": [
      "Select a category (Science, Math, Geography, Others) or 'exit' to quit:  exit\n"
     ]
    },
    {
     "name": "stdout",
     "output_type": "stream",
     "text": [
      "Goodbye!\n"
     ]
    }
   ],
   "source": [
    "def get_questions():\n",
    "    return {\n",
    "        \"Science\": [\n",
    "            {\"question\": \"Which gas do plants absorb during photosynthesis?\", \"answer\": \"carbon dioxide\"},\n",
    "            {\"question\": \"What is the full name of the WWW?\", \"answer\": \"world wide web\"},\n",
    "            {\"question\": \"How many bones are there in the adult human body?\", \"answer\": \"206\"},\n",
    "        ],\n",
    "        \"Math\": [\n",
    "            {\"question\": \"What is the only even prime number?\", \"answer\": \"2\"},\n",
    "            {\"question\": \"What is the sum of the first 5 natural numbers?\", \"answer\": \"15\"},\n",
    "            {\"question\": \"What is the name of the mathematical symbol π?\", \"answer\": \"pi\"},\n",
    "        ],\n",
    "        \"Geography\": [\n",
    "            {\"question\": \"What is the capital of France?\", \"answer\": \"paris\"},\n",
    "            {\"question\": \"What is the tallest mountain on Earth?\", \"answer\": \"mount everest\"},\n",
    "            {\"question\": \"Which planet is known as the 'Red Planet'?\", \"answer\": \"mars\"},\n",
    "        ],\n",
    "        \"Others\": [\n",
    "            {\"question\": \"Who invented the light bulb?\", \"answer\": \"thomas edison\"},\n",
    "            {\"question\": \"Which country won the 2022 FIFA World Cup?\", \"answer\": \"argentina\"},\n",
    "            {\"question\": \"In what year did India declare itself a Democratic and Republic state with the adoption of the Constitution?\", \"answer\": \"1950\"}\n",
    "        ]\n",
    "    }\n",
    "\n",
    "def play_game():\n",
    "    while True:\n",
    "        try:\n",
    "            category = input(\"Select a category (Science, Math, Geography, Others) or 'exit' to quit: \").capitalize()\n",
    "            if category == 'Exit':\n",
    "                print(\"Goodbye!\")\n",
    "                break\n",
    "            questions = get_questions().get(category, [])\n",
    "            if questions:\n",
    "                score = sum(input(q[\"question\"] + \" \").strip().lower() == q[\"answer\"] for q in questions)\n",
    "                print(f\"Score: {score}/{len(questions)}\")\n",
    "            else:\n",
    "                print(\"Invalid category.\")\n",
    "        except Exception as e:\n",
    "            print(f\"Error: {e}\")\n",
    "\n",
    "if __name__ == \"__main__\":\n",
    "    play_game()\n"
   ]
  },
  {
   "cell_type": "code",
   "execution_count": null,
   "id": "40c65961-ce6d-41a4-a9bc-b6b9ec8d4644",
   "metadata": {},
   "outputs": [],
   "source": []
  },
  {
   "cell_type": "code",
   "execution_count": null,
   "id": "356717ea-4c52-4346-b5f6-3a5ead2b9ff2",
   "metadata": {},
   "outputs": [],
   "source": [
    "#Task 3 (cont'd)\n",
    "\n",
    "#Run the Program:\n",
    "\n",
    "#The if name == \"main\": block ensures code execution only when the program is run directly.\n",
    "\n",
    "#Prints a welcome message.\n",
    "\n",
    "#Calls the play_game() method to start the game. Prints a thank you message after the game concludes."
   ]
  },
  {
   "cell_type": "code",
   "execution_count": 5,
   "id": "13e87622-387e-4c6b-9a25-18935a0d6622",
   "metadata": {},
   "outputs": [
    {
     "name": "stdout",
     "output_type": "stream",
     "text": [
      "Welcome to the Quiz Game!\n"
     ]
    },
    {
     "name": "stdin",
     "output_type": "stream",
     "text": [
      "Select a category (Science, Math, Geography, Others) or 'exit' to quit:  math\n",
      "What is the only even prime number?  15\n",
      "What is the sum of the first 5 natural numbers?  15\n",
      "What is the name of the mathematical symbol π?  pi\n"
     ]
    },
    {
     "name": "stdout",
     "output_type": "stream",
     "text": [
      "Score: 2/3\n"
     ]
    },
    {
     "name": "stdin",
     "output_type": "stream",
     "text": [
      "Select a category (Science, Math, Geography, Others) or 'exit' to quit:  exit\n"
     ]
    },
    {
     "name": "stdout",
     "output_type": "stream",
     "text": [
      "Thanks for playing!\n"
     ]
    }
   ],
   "source": [
    "def get_questions():\n",
    "     return {\n",
    "        \"Science\": [\n",
    "            {\"question\": \"Which gas do plants absorb during photosynthesis?\", \"answer\": \"carbon dioxide\"},\n",
    "            {\"question\": \"What is the full name of the WWW?\", \"answer\": \"world wide web\"},\n",
    "            {\"question\": \"How many bones are there in the adult human body?\", \"answer\": \"206\"},\n",
    "        ],\n",
    "        \"Math\": [\n",
    "            {\"question\": \"What is the only even prime number?\", \"answer\": \"2\"},\n",
    "            {\"question\": \"What is the sum of the first 5 natural numbers?\", \"answer\": \"15\"},\n",
    "            {\"question\": \"What is the name of the mathematical symbol π?\", \"answer\": \"pi\"},\n",
    "        ],\n",
    "        \"Geography\": [\n",
    "            {\"question\": \"What is the capital of France?\", \"answer\": \"paris\"},\n",
    "            {\"question\": \"What is the tallest mountain on Earth?\", \"answer\": \"mount everest\"},\n",
    "            {\"question\": \"Which planet is known as the 'Red Planet'?\", \"answer\": \"mars\"},\n",
    "        ],\n",
    "        \"Others\": [\n",
    "            {\"question\": \"Who invented the light bulb?\", \"answer\": \"thomas edison\"},\n",
    "            {\"question\": \"Which country won the 2022 FIFA World Cup?\", \"answer\": \"argentina\"},\n",
    "            {\"question\": \"In what year did India declare itself a Democratic and Republic state with the adoption of the Constitution?\", \"answer\": \"1950\"}\n",
    "        ]\n",
    "    }\n",
    "    \n",
    " \n",
    "def play_game():\n",
    "    while True:\n",
    "        category = input(\"Select a category (Science, Math, Geography, Others) or 'exit' to quit: \").capitalize()\n",
    "        if category == 'Exit':\n",
    "            break\n",
    "        questions = get_questions().get(category, [])\n",
    "        if questions:\n",
    "            score = sum(input(q[\"question\"] + \" \").strip().lower() == q[\"answer\"] for q in questions)\n",
    "            print(f\"Score: {score}/{len(questions)}\")\n",
    "        else:\n",
    "            print(\"Invalid category.\")\n",
    "\n",
    "if __name__ == \"__main__\":\n",
    "    print(\"Welcome to the Quiz Game!\")\n",
    "    play_game()\n",
    "    print(\"Thanks for playing!\")\n"
   ]
  },
  {
   "cell_type": "code",
   "execution_count": null,
   "id": "ebabbbfb-c16a-45d9-9e91-9f419c4c3d97",
   "metadata": {},
   "outputs": [],
   "source": []
  },
  {
   "cell_type": "code",
   "execution_count": null,
   "id": "e9a87405-c4ae-490f-b4ad-37c207dbf686",
   "metadata": {},
   "outputs": [],
   "source": [
    "#Task 3 (cont'd)\n",
    "\n",
    "#Here is an example of how the program should work:\n",
    "\n",
    "#Choose your category from the following list:\n",
    "\n",
    "#1. Science-based\n",
    "\n",
    "#2. Mathematics-based\n",
    "\n",
    "#3. Geography-based\n",
    "\n",
    "#4. Others"
   ]
  },
  {
   "cell_type": "code",
   "execution_count": 8,
   "id": "6fdc5ba9-b4c6-437c-be57-68d18c0a104f",
   "metadata": {},
   "outputs": [
    {
     "name": "stdout",
     "output_type": "stream",
     "text": [
      "Welcome to the Quiz Game!\n",
      "\n",
      "Choose your category:\n",
      "1. Science-based\n",
      "2. Mathematics-based\n",
      "3. Geography-based\n",
      "4. Others\n"
     ]
    },
    {
     "name": "stdin",
     "output_type": "stream",
     "text": [
      "Enter number or 'exit' to quit:  science-based\n"
     ]
    },
    {
     "name": "stdout",
     "output_type": "stream",
     "text": [
      "Invalid choice.\n",
      "\n",
      "Choose your category:\n",
      "1. Science-based\n",
      "2. Mathematics-based\n",
      "3. Geography-based\n",
      "4. Others\n"
     ]
    },
    {
     "name": "stdin",
     "output_type": "stream",
     "text": [
      "Enter number or 'exit' to quit:  Others\n",
      "Who invented the light bulb?  thomas edison\n",
      "Which country won the 2022 FIFA World Cup?  argentina\n",
      "In what year did India declare itself a Democratic and Republic state with the adoption of the Constitution?  1950\n"
     ]
    },
    {
     "name": "stdout",
     "output_type": "stream",
     "text": [
      "Score: 3/3\n",
      "\n",
      "Choose your category:\n",
      "1. Science-based\n",
      "2. Mathematics-based\n",
      "3. Geography-based\n",
      "4. Others\n"
     ]
    },
    {
     "name": "stdin",
     "output_type": "stream",
     "text": [
      "Enter number or 'exit' to quit:  exit\n"
     ]
    },
    {
     "name": "stdout",
     "output_type": "stream",
     "text": [
      "Thanks for playing!\n"
     ]
    }
   ],
   "source": [
    "def get_questions():\n",
    "     return {\n",
    "        \"Science\": [\n",
    "            {\"question\": \"Which gas do plants absorb during photosynthesis?\", \"answer\": \"carbon dioxide\"},\n",
    "            {\"question\": \"What is the full name of the WWW?\", \"answer\": \"world wide web\"},\n",
    "            {\"question\": \"How many bones are there in the adult human body?\", \"answer\": \"206\"},\n",
    "        ],\n",
    "        \"Math\": [\n",
    "            {\"question\": \"What is the only even prime number?\", \"answer\": \"2\"},\n",
    "            {\"question\": \"What is the sum of the first 5 natural numbers?\", \"answer\": \"15\"},\n",
    "            {\"question\": \"What is the name of the mathematical symbol π?\", \"answer\": \"pi\"},\n",
    "        ],\n",
    "        \"Geography\": [\n",
    "            {\"question\": \"What is the capital of France?\", \"answer\": \"paris\"},\n",
    "            {\"question\": \"What is the tallest mountain on Earth?\", \"answer\": \"mount everest\"},\n",
    "            {\"question\": \"Which planet is known as the 'Red Planet'?\", \"answer\": \"mars\"},\n",
    "        ],\n",
    "        \"Others\": [\n",
    "            {\"question\": \"Who invented the light bulb?\", \"answer\": \"thomas edison\"},\n",
    "            {\"question\": \"Which country won the 2022 FIFA World Cup?\", \"answer\": \"argentina\"},\n",
    "            {\"question\": \"In what year did India declare itself a Democratic and Republic state with the adoption of the Constitution?\", \"answer\": \"1950\"}\n",
    "        ]\n",
    "    }\n",
    "    \n",
    "\n",
    "def play_game():\n",
    "    print(\"Welcome to the Quiz Game!\")\n",
    "    while True:\n",
    "        print(\"\\nChoose your category:\")\n",
    "        print(\"1. Science-based\")\n",
    "        print(\"2. Mathematics-based\")\n",
    "        print(\"3. Geography-based\")\n",
    "        print(\"4. Others\")\n",
    "        choice = input(\"Enter number or 'exit' to quit: \").strip()\n",
    "        \n",
    "        if choice == 'exit':\n",
    "            break\n",
    "        \n",
    "        questions = get_questions().get(choice, [])\n",
    "        if questions:\n",
    "            score = sum(input(q[\"question\"] + \" \").strip().lower() == q[\"answer\"] for q in questions)\n",
    "            print(f\"Score: {score}/{len(questions)}\")\n",
    "        else:\n",
    "            print(\"Invalid choice.\")\n",
    "\n",
    "    print(\"Thanks for playing!\")\n",
    "\n",
    "if __name__ == \"__main__\":\n",
    "    play_game()\n"
   ]
  },
  {
   "cell_type": "code",
   "execution_count": null,
   "id": "62afec2e-f34c-4961-b0c2-466f5bbadafa",
   "metadata": {},
   "outputs": [],
   "source": []
  },
  {
   "cell_type": "code",
   "execution_count": null,
   "id": "baf2fe67-2c28-483b-ab30-8068fad6846d",
   "metadata": {},
   "outputs": [],
   "source": [
    "#Task 3 (cont'd)\n",
    "\n",
    "#Suppose 2nd category is chosen by user, then a Mathematics- based question should be displayed, such as 'What is the only even prime number?' \n",
    "#The user will provide their answer. If the answer is correct, the program should display: 'Correct'\n",
    "\n",
    "#If the answer is incorrect, the program should display: 'Incorrect. The correct answer is 2'"
   ]
  },
  {
   "cell_type": "code",
   "execution_count": 9,
   "id": "7902e422-8b02-4e4e-8358-af845b84cefb",
   "metadata": {},
   "outputs": [
    {
     "name": "stdout",
     "output_type": "stream",
     "text": [
      "Welcome to the Quiz Game!\n",
      "\n",
      "Choose your category:\n",
      "1. Science-based\n",
      "2. Mathematics-based\n",
      "3. Geography-based\n",
      "4. Others\n"
     ]
    },
    {
     "name": "stdin",
     "output_type": "stream",
     "text": [
      "Enter number or 'exit' to quit:  1\n",
      "Which gas do plants absorb during photosynthesis?  carbon dioxide\n"
     ]
    },
    {
     "name": "stdout",
     "output_type": "stream",
     "text": [
      "Correct!\n"
     ]
    },
    {
     "name": "stdin",
     "output_type": "stream",
     "text": [
      "What is the full name of the WWW?  world wide web\n"
     ]
    },
    {
     "name": "stdout",
     "output_type": "stream",
     "text": [
      "Correct!\n"
     ]
    },
    {
     "name": "stdin",
     "output_type": "stream",
     "text": [
      "How many bones are there in the adult human body?  206\n"
     ]
    },
    {
     "name": "stdout",
     "output_type": "stream",
     "text": [
      "Correct!\n",
      "\n",
      "Choose your category:\n",
      "1. Science-based\n",
      "2. Mathematics-based\n",
      "3. Geography-based\n",
      "4. Others\n"
     ]
    },
    {
     "name": "stdin",
     "output_type": "stream",
     "text": [
      "Enter number or 'exit' to quit:  exit\n"
     ]
    },
    {
     "name": "stdout",
     "output_type": "stream",
     "text": [
      "Thanks for playing!\n"
     ]
    }
   ],
   "source": [
    "def get_questions():\n",
    "     return {\n",
    "        \"1\": [\n",
    "            {\"question\": \"Which gas do plants absorb during photosynthesis?\", \"answer\": \"carbon dioxide\"},\n",
    "            {\"question\": \"What is the full name of the WWW?\", \"answer\": \"world wide web\"},\n",
    "            {\"question\": \"How many bones are there in the adult human body?\", \"answer\": \"206\"},\n",
    "        ],\n",
    "        \"2\": [\n",
    "            {\"question\": \"What is the only even prime number?\", \"answer\": \"2\"},\n",
    "            {\"question\": \"What is the sum of the first 5 natural numbers?\", \"answer\": \"15\"},\n",
    "            {\"question\": \"What is the name of the mathematical symbol π?\", \"answer\": \"pi\"},\n",
    "        ],\n",
    "        \"3\": [\n",
    "            {\"question\": \"What is the capital of France?\", \"answer\": \"paris\"},\n",
    "            {\"question\": \"What is the tallest mountain on Earth?\", \"answer\": \"mount everest\"},\n",
    "            {\"question\": \"Which planet is known as the 'Red Planet'?\", \"answer\": \"mars\"},\n",
    "        ],\n",
    "        \"4\": [\n",
    "            {\"question\": \"Who invented the light bulb?\", \"answer\": \"thomas edison\"},\n",
    "            {\"question\": \"Which country won the 2022 FIFA World Cup?\", \"answer\": \"argentina\"},\n",
    "            {\"question\": \"In what year did India declare itself a Democratic and Republic state with the adoption of the Constitution?\", \"answer\": \"1950\"}\n",
    "        ]\n",
    "    }\n",
    "def play_game():\n",
    "    print(\"Welcome to the Quiz Game!\")\n",
    "    while True:\n",
    "        print(\"\\nChoose your category:\")\n",
    "        print(\"1. Science-based\")\n",
    "        print(\"2. Mathematics-based\")\n",
    "        print(\"3. Geography-based\")\n",
    "        print(\"4. Others\")\n",
    "        choice = input(\"Enter number or 'exit' to quit: \").strip()\n",
    "        \n",
    "        if choice == 'exit':\n",
    "            break\n",
    "        \n",
    "        questions = get_questions().get(choice, [])\n",
    "        if questions:\n",
    "            for q in questions:\n",
    "                answer = input(q[\"question\"] + \" \").strip().lower()\n",
    "                if answer == q[\"answer\"]:\n",
    "                    print(\"Correct!\")\n",
    "                else:\n",
    "                    print(f\"Incorrect. The correct answer is: {q['answer']}\")\n",
    "        else:\n",
    "            print(\"Invalid choice.\")\n",
    "\n",
    "    print(\"Thanks for playing!\")\n",
    "\n",
    "if __name__ == \"__main__\":\n",
    "    play_game()\n"
   ]
  },
  {
   "cell_type": "code",
   "execution_count": null,
   "id": "d5e8abe2-6682-4966-8555-4c1eb89a4757",
   "metadata": {},
   "outputs": [],
   "source": []
  },
  {
   "cell_type": "code",
   "execution_count": null,
   "id": "da59fe39-a099-4e8f-a2b4-378219685f97",
   "metadata": {},
   "outputs": [],
   "source": [
    "#Task 4\n",
    "\n",
    "#Think about how the rules of the Rock-Paper-Scissors game can be translated into Python code. \n",
    "#Build the game using a Python program where Player 1 is the computer, making random choices."
   ]
  },
  {
   "cell_type": "code",
   "execution_count": 11,
   "id": "148e0a80-f9d7-4179-9268-777c6a3e0ca1",
   "metadata": {},
   "outputs": [
    {
     "name": "stdout",
     "output_type": "stream",
     "text": [
      "Rock, Paper, Scissors!\n"
     ]
    },
    {
     "name": "stdin",
     "output_type": "stream",
     "text": [
      "Enter rock, paper, or scissors (or 'exit' to quit):  rock\n"
     ]
    },
    {
     "name": "stdout",
     "output_type": "stream",
     "text": [
      "Computer chose: rock\n",
      "It's a tie!\n"
     ]
    },
    {
     "name": "stdin",
     "output_type": "stream",
     "text": [
      "Enter rock, paper, or scissors (or 'exit' to quit):  paper\n"
     ]
    },
    {
     "name": "stdout",
     "output_type": "stream",
     "text": [
      "Computer chose: scissors\n",
      "You lose!\n"
     ]
    },
    {
     "name": "stdin",
     "output_type": "stream",
     "text": [
      "Enter rock, paper, or scissors (or 'exit' to quit):  rock\n"
     ]
    },
    {
     "name": "stdout",
     "output_type": "stream",
     "text": [
      "Computer chose: paper\n",
      "You lose!\n"
     ]
    },
    {
     "name": "stdin",
     "output_type": "stream",
     "text": [
      "Enter rock, paper, or scissors (or 'exit' to quit):  rock\n"
     ]
    },
    {
     "name": "stdout",
     "output_type": "stream",
     "text": [
      "Computer chose: paper\n",
      "You lose!\n"
     ]
    },
    {
     "name": "stdin",
     "output_type": "stream",
     "text": [
      "Enter rock, paper, or scissors (or 'exit' to quit):  rock\n"
     ]
    },
    {
     "name": "stdout",
     "output_type": "stream",
     "text": [
      "Computer chose: scissors\n",
      "You win!\n"
     ]
    },
    {
     "name": "stdin",
     "output_type": "stream",
     "text": [
      "Enter rock, paper, or scissors (or 'exit' to quit):  papaer\n"
     ]
    },
    {
     "name": "stdout",
     "output_type": "stream",
     "text": [
      "Invalid choice. Try again.\n"
     ]
    },
    {
     "name": "stdin",
     "output_type": "stream",
     "text": [
      "Enter rock, paper, or scissors (or 'exit' to quit):  paper\n"
     ]
    },
    {
     "name": "stdout",
     "output_type": "stream",
     "text": [
      "Computer chose: scissors\n",
      "You lose!\n"
     ]
    },
    {
     "name": "stdin",
     "output_type": "stream",
     "text": [
      "Enter rock, paper, or scissors (or 'exit' to quit):  rock\n"
     ]
    },
    {
     "name": "stdout",
     "output_type": "stream",
     "text": [
      "Computer chose: rock\n",
      "It's a tie!\n"
     ]
    },
    {
     "name": "stdin",
     "output_type": "stream",
     "text": [
      "Enter rock, paper, or scissors (or 'exit' to quit):  rock\n"
     ]
    },
    {
     "name": "stdout",
     "output_type": "stream",
     "text": [
      "Computer chose: paper\n",
      "You lose!\n"
     ]
    },
    {
     "name": "stdin",
     "output_type": "stream",
     "text": [
      "Enter rock, paper, or scissors (or 'exit' to quit):  exit\n"
     ]
    },
    {
     "name": "stdout",
     "output_type": "stream",
     "text": [
      "Thanks for playing!\n"
     ]
    }
   ],
   "source": [
    "import random\n",
    "\n",
    "def get_computer_choice():\n",
    "    return random.choice(['rock', 'paper', 'scissors'])\n",
    "\n",
    "def play_game():\n",
    "    print(\"Rock, Paper, Scissors!\")\n",
    "    \n",
    "    while True:\n",
    "        player_choice = input(\"Enter rock, paper, or scissors (or 'exit' to quit): \").strip().lower()\n",
    "        if player_choice == 'exit':\n",
    "            break\n",
    "        if player_choice not in ['rock', 'paper', 'scissors']:\n",
    "            print(\"Invalid choice. Try again.\")\n",
    "            continue\n",
    "        \n",
    "        computer_choice = get_computer_choice()\n",
    "        print(f\"Computer chose: {computer_choice}\")\n",
    "        \n",
    "        if player_choice == computer_choice:\n",
    "            print(\"It's a tie!\")\n",
    "        elif (player_choice == 'rock' and computer_choice == 'scissors') or \\\n",
    "             (player_choice == 'scissors' and computer_choice == 'paper') or \\\n",
    "             (player_choice == 'paper' and computer_choice == 'rock'):\n",
    "            print(\"You win!\")\n",
    "        else:\n",
    "            print(\"You lose!\")\n",
    "\n",
    "    print(\"Thanks for playing!\")\n",
    "\n",
    "if __name__ == \"__main__\":\n",
    "    play_game()\n"
   ]
  },
  {
   "cell_type": "code",
   "execution_count": null,
   "id": "9aa784ae-f457-4317-a212-e826734bbe36",
   "metadata": {},
   "outputs": [],
   "source": []
  },
  {
   "cell_type": "code",
   "execution_count": null,
   "id": "29c00a2a-d333-417a-83af-b61118a4bf23",
   "metadata": {},
   "outputs": [],
   "source": [
    "#Task 5\n",
    "\n",
    "#Develop a Python program to simulate a two-player Rock- Paper-Scissors game. \n",
    "#The program should prompt each player to enter their name, allow each player to choose rock, paper, or scissors, implement logic to determine the winner, \n",
    "#and display the winner's name."
   ]
  },
  {
   "cell_type": "code",
   "execution_count": 14,
   "id": "17b301c8-1e46-4752-b590-f68a11c3ccd0",
   "metadata": {},
   "outputs": [
    {
     "name": "stdin",
     "output_type": "stream",
     "text": [
      "Player 1, enter your name:  Deepak\n",
      "Player 2, enter your name:  Sam\n",
      "Deepak, enter rock, paper, or scissors:  paper\n",
      "Sam, enter rock, paper, or scissors:  rock\n"
     ]
    },
    {
     "name": "stdout",
     "output_type": "stream",
     "text": [
      "Deepak chose: paper\n",
      "Sam chose: rock\n",
      "Player 1 wins!\n"
     ]
    }
   ],
   "source": [
    "def get_winner(p1, p2):\n",
    "    if p1 == p2:\n",
    "        return \"It's a tie!\"\n",
    "    if (p1 == 'rock' and p2 == 'scissors') or \\\n",
    "       (p1 == 'scissors' and p2 == 'paper') or \\\n",
    "       (p1 == 'paper' and p2 == 'rock'):\n",
    "        return \"Player 1 wins!\"\n",
    "    return \"Player 2 wins!\"\n",
    "\n",
    "def play_game():\n",
    "    p1_name = input(\"Player 1, enter your name: \")\n",
    "    p2_name = input(\"Player 2, enter your name: \")\n",
    "\n",
    "    p1_choice = input(f\"{p1_name}, enter rock, paper, or scissors: \").strip().lower()\n",
    "    p2_choice = input(f\"{p2_name}, enter rock, paper, or scissors: \").strip().lower()\n",
    "    \n",
    "    if p1_choice in ['rock', 'paper', 'scissors'] and p2_choice in ['rock', 'paper', 'scissors']:\n",
    "        print(f\"{p1_name} chose: {p1_choice}\")\n",
    "        print(f\"{p2_name} chose: {p2_choice}\")\n",
    "        print(get_winner(p1_choice, p2_choice))\n",
    "    else:\n",
    "        print(\"Invalid choice. Please enter rock, paper, or scissors.\")\n",
    "\n",
    "if __name__ == \"__main__\":\n",
    "    play_game()\n"
   ]
  },
  {
   "cell_type": "code",
   "execution_count": null,
   "id": "3a7af7ed-99b6-42f5-a48a-84ca1476f8ce",
   "metadata": {},
   "outputs": [],
   "source": []
  },
  {
   "cell_type": "code",
   "execution_count": null,
   "id": "70976c07-87d2-47c1-8e93-5d60dfe90084",
   "metadata": {},
   "outputs": [],
   "source": [
    "#Task 5 (cont'd)\n",
    "\n",
    "#Example:\n",
    "\n",
    "#Hello user1! Enter your name: John\n",
    "\n",
    "#Hello user2! Enter your name: Eva\n",
    "\n",
    "#Hello user1! Enter a choice (rock, paper, scissors): rock Hello user2!Enter a choice (rock, paper, scissors): paper Paper covers rock! Eva win!"
   ]
  },
  {
   "cell_type": "code",
   "execution_count": 17,
   "id": "b830f022-c751-48e9-a49b-3ae376e84f65",
   "metadata": {},
   "outputs": [
    {
     "name": "stdin",
     "output_type": "stream",
     "text": [
      "Player 1, enter your name:  Deepak\n",
      "Player 2, enter your name:  Viraj\n",
      "Deepak, enter rock, paper, or scissors:  scissors\n",
      "Viraj, enter rock, paper, or scissors:  paper\n"
     ]
    },
    {
     "name": "stdout",
     "output_type": "stream",
     "text": [
      "Deepak chose: scissors\n",
      "Viraj chose: paper\n",
      "Player 1 wins!\n"
     ]
    }
   ],
   "source": [
    "def get_winner(p1, p2):\n",
    "    if p1 == p2:\n",
    "        return \"It's a tie!\"\n",
    "    if (p1 == 'rock' and p2 == 'scissors') or \\\n",
    "       (p1 == 'scissors' and p2 == 'paper') or \\\n",
    "       (p1 == 'paper' and p2 == 'rock'):\n",
    "        return \"Player 1 wins!\"\n",
    "    return \"Player 2 wins!\"\n",
    "\n",
    "def play_game():\n",
    "    p1_name = input(\"Player 1, enter your name: \")\n",
    "    p2_name = input(\"Player 2, enter your name: \")\n",
    "\n",
    "    p1_choice = input(f\"{p1_name}, enter rock, paper, or scissors: \").strip().lower()\n",
    "    p2_choice = input(f\"{p2_name}, enter rock, paper, or scissors: \").strip().lower()\n",
    "    \n",
    "    if p1_choice in ['rock', 'paper', 'scissors'] and p2_choice in ['rock', 'paper', 'scissors']:\n",
    "        print(f\"{p1_name} chose: {p1_choice}\")\n",
    "        print(f\"{p2_name} chose: {p2_choice}\")\n",
    "        print(get_winner(p1_choice, p2_choice))\n",
    "    else:\n",
    "        print(\"Invalid choice. Please enter rock, paper, or scissors.\")\n",
    "\n",
    "if __name__ == \"__main__\":\n",
    "    play_game()"
   ]
  }
 ],
 "metadata": {
  "kernelspec": {
   "display_name": "Python 3 (ipykernel)",
   "language": "python",
   "name": "python3"
  },
  "language_info": {
   "codemirror_mode": {
    "name": "ipython",
    "version": 3
   },
   "file_extension": ".py",
   "mimetype": "text/x-python",
   "name": "python",
   "nbconvert_exporter": "python",
   "pygments_lexer": "ipython3",
   "version": "3.12.4"
  }
 },
 "nbformat": 4,
 "nbformat_minor": 5
}
