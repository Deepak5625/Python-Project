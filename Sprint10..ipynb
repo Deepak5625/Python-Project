{
 "cells": [
  {
   "cell_type": "code",
   "execution_count": null,
   "id": "2d7054b9-d120-4a5a-861b-9508304d0ff6",
   "metadata": {},
   "outputs": [],
   "source": [
    "#Task 1\n",
    "\n",
    "#Write Python code to develop a word guessing game where employees attempt to guess a secret word from a provided list by making a series of guesses. \n",
    "#Clues, such as optional information about the number of letters or characters in the word, can be given to assist in the guessing process."
   ]
  },
  {
   "cell_type": "code",
   "execution_count": null,
   "id": "a46ac1fa-df87-4642-a295-3eca2cd4165c",
   "metadata": {},
   "outputs": [],
   "source": []
  },
  {
   "cell_type": "code",
   "execution_count": 2,
   "id": "9e73c22d-da7f-4f2e-8a97-541074124445",
   "metadata": {},
   "outputs": [
    {
     "name": "stdout",
     "output_type": "stream",
     "text": [
      "Guess the word! It has 8 letters.\n",
      "\n",
      "Word: _ _ _ _ _ _ _ _\n",
      "Attempts left: 6\n"
     ]
    },
    {
     "name": "stdin",
     "output_type": "stream",
     "text": [
      "Guess a letter:  employee\n"
     ]
    },
    {
     "name": "stdout",
     "output_type": "stream",
     "text": [
      "Invalid input. Enter a single letter.\n",
      "\n",
      "Word: _ _ _ _ _ _ _ _\n",
      "Attempts left: 6\n"
     ]
    },
    {
     "name": "stdin",
     "output_type": "stream",
     "text": [
      "Guess a letter:  e\n"
     ]
    },
    {
     "name": "stdout",
     "output_type": "stream",
     "text": [
      "Correct!\n",
      "\n",
      "Word: e _ _ _ _ _ e e\n",
      "Attempts left: 6\n"
     ]
    },
    {
     "name": "stdin",
     "output_type": "stream",
     "text": [
      "Guess a letter:  m\n"
     ]
    },
    {
     "name": "stdout",
     "output_type": "stream",
     "text": [
      "Correct!\n",
      "\n",
      "Word: e m _ _ _ _ e e\n",
      "Attempts left: 6\n"
     ]
    },
    {
     "name": "stdin",
     "output_type": "stream",
     "text": [
      "Guess a letter:  p\n"
     ]
    },
    {
     "name": "stdout",
     "output_type": "stream",
     "text": [
      "Correct!\n",
      "\n",
      "Word: e m p _ _ _ e e\n",
      "Attempts left: 6\n"
     ]
    },
    {
     "name": "stdin",
     "output_type": "stream",
     "text": [
      "Guess a letter:  l\n"
     ]
    },
    {
     "name": "stdout",
     "output_type": "stream",
     "text": [
      "Correct!\n",
      "\n",
      "Word: e m p l _ _ e e\n",
      "Attempts left: 6\n"
     ]
    },
    {
     "name": "stdin",
     "output_type": "stream",
     "text": [
      "Guess a letter:  o\n"
     ]
    },
    {
     "name": "stdout",
     "output_type": "stream",
     "text": [
      "Correct!\n",
      "\n",
      "Word: e m p l o _ e e\n",
      "Attempts left: 6\n"
     ]
    },
    {
     "name": "stdin",
     "output_type": "stream",
     "text": [
      "Guess a letter:  y\n"
     ]
    },
    {
     "name": "stdout",
     "output_type": "stream",
     "text": [
      "Correct!\n",
      "Congratulations! The word was: employee\n"
     ]
    }
   ],
   "source": [
    "import random\n",
    "\n",
    "def play_game():\n",
    "    words = ['python', 'development', 'employee', 'office', 'work']\n",
    "    secret_word = random.choice(words)\n",
    "    guesses = set()\n",
    "    attempts = 6\n",
    "\n",
    "    print(f\"Guess the word! It has {len(secret_word)} letters.\")\n",
    "    \n",
    "    while attempts > 0:\n",
    "        display = ' '.join([char if char in guesses else '_' for char in secret_word])\n",
    "        print(f\"\\nWord: {display}\")\n",
    "        print(f\"Attempts left: {attempts}\")\n",
    "        \n",
    "        guess = input(\"Guess a letter: \").strip().lower()\n",
    "        \n",
    "        if len(guess) != 1 or not guess.isalpha():\n",
    "            print(\"Invalid input. Enter a single letter.\")\n",
    "            continue\n",
    "        \n",
    "        if guess in guesses:\n",
    "            print(\"Already guessed.\")\n",
    "            continue\n",
    "        \n",
    "        guesses.add(guess)\n",
    "        \n",
    "        if guess in secret_word:\n",
    "            print(\"Correct!\")\n",
    "        else:\n",
    "            print(\"Wrong!\")\n",
    "            attempts -= 1\n",
    "        \n",
    "        if all(char in guesses for char in secret_word):\n",
    "            print(f\"Congratulations! The word was: {secret_word}\")\n",
    "            return\n",
    "    \n",
    "    print(f\"Game over! The word was: {secret_word}\")\n",
    "\n",
    "if __name__ == \"__main__\":\n",
    "    play_game()\n"
   ]
  },
  {
   "cell_type": "code",
   "execution_count": null,
   "id": "bb880e20-f433-4dfb-8799-ced8bb61a363",
   "metadata": {},
   "outputs": [],
   "source": []
  },
  {
   "cell_type": "code",
   "execution_count": null,
   "id": "95e70569-3416-4819-a8d4-169df7cbca25",
   "metadata": {},
   "outputs": [],
   "source": [
    "#Task 2\n",
    "\n",
    "#Define a method named menu() that prints the following options of the application:\n",
    "\n",
    "#1. Play Riddle Puzzle.\n",
    "\n",
    "#2. Play Arithmetic Puzzle.\n",
    "\n",
    "#3. Play General Knowledge quiz game.\n",
    "\n",
    "#4. Play Rock-Paper-Scissor game with the computer.\n",
    "\n",
    "#5. Play Rock-Paper-Scissor game with a user.\n",
    "\n",
    "#6. Play Word-Guessing game with the computer.\n",
    "\n",
    "#Enter any option by typing a number between 1 and 6.\n",
    "\n",
    "#Task 2 (cont'd)\n",
    "\n",
    "#Finally, write the main() method and observe the program's behavior as follows:\n",
    "\n",
    "#1. The program will start by printing the application menu.\n",
    "\n",
    "#2. The program will prompt the user to enter an option by\n",
    "\n",
    "#choosing a number between 1 and 6.\n",
    "\n",
    "#3. If the user enters the option value as 1, then execute the program to play the riddle puzzle\n",
    "\n",
    "#4. If the user enters the option value as 2, then execute the program to play the arithmetic puzzle.\n",
    "\n",
    "#5. If the user enters the option value as 3, then execute the program to play the General Knowledge quiz game.\n",
    "\n",
    "#6. If the user enters the option value as 4, then execute the program to play the rock-paper-scissors game with the computer.\n",
    "\n",
    "#7. If the user enters the option value as 5, then execute the program to play the rock-paper-scissors game between users.\n",
    "\n",
    "#8. If the user enters the option value as 6, then execute the program to play word guessing game.\n",
    "\n",
    "#9. If the user enters any value outside the range of 1 to 6, then the program will display 'You have entered the wrong option.'\n",
    "\n",
    "#10. The program will prompt the user to enter their choice (Y/y for Yes or N/n for No) to either repeat the menu to play another game or quit the main program.\n",
    "\n",
    "#Task 2 (cont'd)\n",
    "\n",
    "#Ensure to include exception handling to manage possible errors during the execution of the games.\n",
    "\n",
    "#Additionally, specify that the menu() method should be defined as a static method within the GameMenu class to allow direct access using the class name.\n",
    "\n"
   ]
  },
  {
   "cell_type": "code",
   "execution_count": 2,
   "id": "707d86a4-95b7-4119-ad8a-b0f1d9264739",
   "metadata": {},
   "outputs": [
    {
     "name": "stdout",
     "output_type": "stream",
     "text": [
      "Please choose an option:\n",
      "1. Play Riddle Puzzle.\n",
      "2. Play Arithmetic Puzzle.\n",
      "3. Play General Knowledge quiz game.\n",
      "4. Play Rock-Paper-Scissor game with the computer.\n",
      "5. Play Rock-Paper-Scissor game with a user.\n",
      "6. Play Word-Guessing game with the computer.\n"
     ]
    },
    {
     "name": "stdin",
     "output_type": "stream",
     "text": [
      "Enter any option by typing a number between 1 and 6:  2\n"
     ]
    },
    {
     "name": "stdout",
     "output_type": "stream",
     "text": [
      "\n",
      "Solve: 17 * 18\n"
     ]
    },
    {
     "name": "stdin",
     "output_type": "stream",
     "text": [
      "Your answer:  306\n"
     ]
    },
    {
     "name": "stdout",
     "output_type": "stream",
     "text": [
      "Correct!\n"
     ]
    },
    {
     "name": "stdin",
     "output_type": "stream",
     "text": [
      "Play again? (yes/no):  yes\n"
     ]
    },
    {
     "name": "stdout",
     "output_type": "stream",
     "text": [
      "\n",
      "Solve: 7 * 6\n"
     ]
    },
    {
     "name": "stdin",
     "output_type": "stream",
     "text": [
      "Your answer:  42\n"
     ]
    },
    {
     "name": "stdout",
     "output_type": "stream",
     "text": [
      "Correct!\n"
     ]
    },
    {
     "name": "stdin",
     "output_type": "stream",
     "text": [
      "Play again? (yes/no):  no\n",
      "\n",
      "Do you want to return to the menu? (yes/no):  yes\n"
     ]
    },
    {
     "name": "stdout",
     "output_type": "stream",
     "text": [
      "Please choose an option:\n",
      "1. Play Riddle Puzzle.\n",
      "2. Play Arithmetic Puzzle.\n",
      "3. Play General Knowledge quiz game.\n",
      "4. Play Rock-Paper-Scissor game with the computer.\n",
      "5. Play Rock-Paper-Scissor game with a user.\n",
      "6. Play Word-Guessing game with the computer.\n"
     ]
    },
    {
     "name": "stdin",
     "output_type": "stream",
     "text": [
      "Enter any option by typing a number between 1 and 6:  1\n"
     ]
    },
    {
     "name": "stdout",
     "output_type": "stream",
     "text": [
      "Riddle: The more of this there is, the less you see. What is it?\n"
     ]
    },
    {
     "name": "stdin",
     "output_type": "stream",
     "text": [
      "Your answer:  darkness\n"
     ]
    },
    {
     "name": "stdout",
     "output_type": "stream",
     "text": [
      "Correct!\n"
     ]
    },
    {
     "name": "stdin",
     "output_type": "stream",
     "text": [
      "\n",
      "Do you want to return to the menu? (yes/no):  no\n"
     ]
    }
   ],
   "source": [
    "import random\n",
    "\n",
    "class GameMenu:\n",
    "    \n",
    "    @staticmethod\n",
    "    def menu():\n",
    "        print(\"Please choose an option:\")\n",
    "        print(\"1. Play Riddle Puzzle.\")\n",
    "        print(\"2. Play Arithmetic Puzzle.\")\n",
    "        print(\"3. Play General Knowledge quiz game.\")\n",
    "        print(\"4. Play Rock-Paper-Scissor game with the computer.\")\n",
    "        print(\"5. Play Rock-Paper-Scissor game with a user.\")\n",
    "        print(\"6. Play Word-Guessing game with the computer.\")\n",
    "        \n",
    "        try:\n",
    "            choice = int(input(\"Enter any option by typing a number between 1 and 6: \").strip())\n",
    "            if choice < 1 or choice > 6:\n",
    "                print(\"Invalid choice! Please enter a number between 1 and 6.\")\n",
    "                return None\n",
    "            return choice\n",
    "        except ValueError:\n",
    "            print(\"Invalid input! Please enter a valid number.\")\n",
    "            return None\n",
    "\n",
    "# Game 1: Riddle Puzzle\n",
    "def play_riddle_puzzle():\n",
    "    riddles = {\n",
    "        \"What has keys but can't open locks?\": \"piano\",\n",
    "        \"I speak without a mouth and hear without ears. What am I?\": \"echo\",\n",
    "        \"The more of this there is, the less you see. What is it?\": \"darkness\",\n",
    "        \"What can travel around the world while staying in a corner?\": \"stamp\",\n",
    "        \"What has to be broken before you can use it?\": \"egg\"\n",
    "    }\n",
    "    question, answer = random.choice(list(riddles.items()))\n",
    "    print(\"Riddle:\", question)\n",
    "    \n",
    "    user_answer = input(\"Your answer: \").strip().lower()\n",
    "    \n",
    "    if user_answer == answer:\n",
    "        print(\"Correct!\")\n",
    "    else:\n",
    "        print(f\"Wrong! The correct answer is: {answer}\")\n",
    "\n",
    "# Game 2: Arithmetic Puzzle\n",
    "def play_arithmetic_puzzle():\n",
    "    while True:\n",
    "        num1 = random.randint(1, 20)\n",
    "        num2 = random.randint(1, 20)\n",
    "        operator = random.choice(['+', '-', '*', '/'])\n",
    "        \n",
    "        # Ensure integer results for division\n",
    "        if operator == '/':\n",
    "            num1 = num1 * num2\n",
    "        \n",
    "        print(f\"\\nSolve: {num1} {operator} {num2}\")\n",
    "        \n",
    "        if operator == '+':\n",
    "            correct_answer = num1 + num2\n",
    "        elif operator == '-':\n",
    "            correct_answer = num1 - num2\n",
    "        elif operator == '*':\n",
    "            correct_answer = num1 * num2\n",
    "        elif operator == '/':\n",
    "            correct_answer = num1 / num2\n",
    "        \n",
    "        try:\n",
    "            user_answer = float(input(\"Your answer: \"))\n",
    "            if user_answer == correct_answer:\n",
    "                print(\"Correct!\")\n",
    "            else:\n",
    "                print(f\"Incorrect! The correct answer is: {correct_answer}\")\n",
    "        except ValueError:\n",
    "            print(\"Invalid input! Please enter a number.\")\n",
    "        \n",
    "        if input(\"Play again? (yes/no): \").strip().lower() != 'yes':\n",
    "            break\n",
    "\n",
    "# Game 3: General Knowledge Quiz\n",
    "def get_questions():\n",
    "    return {\n",
    "        \"Science\": [\n",
    "            {\"question\": \"Which gas do plants absorb during photosynthesis?\", \"answer\": \"carbon dioxide\"},\n",
    "            {\"question\": \"What is the full name of the WWW?\", \"answer\": \"world wide web\"},\n",
    "            {\"question\": \"How many bones are there in the adult human body?\", \"answer\": \"206\"},\n",
    "        ],\n",
    "        \"Mathematics\": [\n",
    "            {\"question\": \"What is the only even prime number?\", \"answer\": \"2\"},\n",
    "            {\"question\": \"What is the sum of the first 5 natural numbers?\", \"answer\": \"15\"},\n",
    "            {\"question\": \"What is the name of the mathematical symbol π?\", \"answer\": \"pi\"},\n",
    "        ],\n",
    "        \"Geography\": [\n",
    "            {\"question\": \"What is the tallest mountain on Earth?\", \"answer\": \"mount everest\"},\n",
    "            {\"question\": \"What is the capital of France?\", \"answer\": \"paris\"},\n",
    "            {\"question\": \"Which planet is known as the 'Red Planet'?\", \"answer\": \"mars\"},\n",
    "        ],\n",
    "        \"Others\": [\n",
    "            {\"question\": \"Which country won the most recent FIFA World Cup (as of 2022)?\", \"answer\": \"argentina\"},\n",
    "            {\"question\": \"Who invented the light bulb?\", \"answer\": \"thomas edison\"},\n",
    "            {\"question\": \"In what year did India declare itself a Democratic and Republic state with the adoption of the Constitution?\", \"answer\": \"1950\"},\n",
    "        ]\n",
    "    }\n",
    "\n",
    "def ask_category():\n",
    "    categories = list(get_questions().keys())\n",
    "    print(\"Categories:\", \", \".join(categories))\n",
    "    choice = input(\"Select a category: \").strip()\n",
    "    return choice if choice in categories else None\n",
    "\n",
    "def ask_question(question):\n",
    "    return input(f\"{question} \").strip().lower()\n",
    "\n",
    "def check_answer(user_answer, correct_answer):\n",
    "    if user_answer == correct_answer:\n",
    "        print(\"Correct!\")\n",
    "        return True\n",
    "    print(f\"Wrong! The correct answer is: {correct_answer}\")\n",
    "    return False\n",
    "\n",
    "def play_general_knowledge_quiz():\n",
    "    category = ask_category()\n",
    "    if not category:\n",
    "        print(\"Invalid category.\")\n",
    "        return\n",
    "\n",
    "    questions = get_questions().get(category, [])\n",
    "    score = 0\n",
    "\n",
    "    for q in questions:\n",
    "        if check_answer(ask_question(q[\"question\"]), q[\"answer\"]):\n",
    "            score += 1\n",
    "\n",
    "    print(f\"Your score: {score}/{len(questions)}\")\n",
    "\n",
    "# Game 4 & 5: Rock-Paper-Scissors\n",
    "def get_computer_choice():\n",
    "    return random.choice(['rock', 'paper', 'scissors'])\n",
    "\n",
    "def play_rock_paper_scissors(opponent=\"computer\"):\n",
    "    print(\"Rock, Paper, Scissors!\")\n",
    "    \n",
    "    while True:\n",
    "        if opponent == \"computer\":\n",
    "            player_choice = input(\"Enter rock, paper, or scissors (or 'exit' to quit): \").strip().lower()\n",
    "            computer_choice = get_computer_choice()\n",
    "        else:\n",
    "            player_choice = input(\"Player 1, enter rock, paper, or scissors: \").strip().lower()\n",
    "            computer_choice = input(\"Player 2, enter rock, paper, or scissors: \").strip().lower()\n",
    "\n",
    "        if player_choice == 'exit':\n",
    "            break\n",
    "        if player_choice not in ['rock', 'paper', 'scissors'] or computer_choice not in ['rock', 'paper', 'scissors']:\n",
    "            print(\"Invalid choice. Try again.\")\n",
    "            continue\n",
    "        \n",
    "        print(f\"Computer chose: {computer_choice}\")\n",
    "        \n",
    "        if player_choice == computer_choice:\n",
    "            print(\"It's a tie!\")\n",
    "        elif (player_choice == 'rock' and computer_choice == 'scissors') or \\\n",
    "             (player_choice == 'scissors' and computer_choice == 'paper') or \\\n",
    "             (player_choice == 'paper' and computer_choice == 'rock'):\n",
    "            print(\"You win!\")\n",
    "        else:\n",
    "            print(\"You lose!\")\n",
    "\n",
    "# Game 6: Word-Guessing Game\n",
    "def play_word_guessing_game():\n",
    "    words = ['python', 'development', 'employee', 'office', 'work']\n",
    "    secret_word = random.choice(words)\n",
    "    guesses = set()\n",
    "    attempts = 6\n",
    "\n",
    "    print(f\"Guess the word! It has {len(secret_word)} letters.\")\n",
    "    \n",
    "    while attempts > 0:\n",
    "        display = ''.join([char if char in guesses else '_' for char in secret_word])\n",
    "        print(f\"\\nWord: {display}\")\n",
    "        print(f\"Attempts left: {attempts}\")\n",
    "        \n",
    "        guess = input(\"Guess a letter: \").strip().lower()\n",
    "        \n",
    "        if len(guess) != 1 or not guess.isalpha():\n",
    "            print(\"Invalid input. Enter a single letter.\")\n",
    "            continue\n",
    "        \n",
    "        if guess in guesses:\n",
    "            print(\"You already guessed that letter.\")\n",
    "            continue\n",
    "        \n",
    "        guesses.add(guess)\n",
    "        \n",
    "        if guess in secret_word:\n",
    "            print(\"Correct guess!\")\n",
    "        else:\n",
    "            print(\"Wrong guess!\")\n",
    "            attempts -= 1\n",
    "        \n",
    "        if all(char in guesses for char in secret_word):\n",
    "            print(f\"\\nCongratulations! You've guessed the word: {secret_word}\")\n",
    "            break\n",
    "    else:\n",
    "        print(f\"\\nGame over! The word was: {secret_word}\")\n",
    "\n",
    "# Main execution\n",
    "def main():\n",
    "    while True:\n",
    "        option = GameMenu.menu()\n",
    "        if option == 1:\n",
    "            play_riddle_puzzle()\n",
    "        elif option == 2:\n",
    "            play_arithmetic_puzzle()\n",
    "        elif option == 3:\n",
    "            play_general_knowledge_quiz()\n",
    "        elif option == 4:\n",
    "            play_rock_paper_scissors(\"computer\")\n",
    "        elif option == 5:\n",
    "            play_rock_paper_scissors(\"user\")\n",
    "        elif option == 6:\n",
    "            play_word_guessing_game()\n",
    "        else:\n",
    "            break\n",
    "\n",
    "        if input(\"\\nDo you want to return to the menu? (yes/no): \").strip().lower() != 'yes':\n",
    "            break\n",
    "\n",
    "if __name__ == \"__main__\":\n",
    "    main()\n"
   ]
  }
 ],
 "metadata": {
  "kernelspec": {
   "display_name": "Python 3 (ipykernel)",
   "language": "python",
   "name": "python3"
  },
  "language_info": {
   "codemirror_mode": {
    "name": "ipython",
    "version": 3
   },
   "file_extension": ".py",
   "mimetype": "text/x-python",
   "name": "python",
   "nbconvert_exporter": "python",
   "pygments_lexer": "ipython3",
   "version": "3.12.4"
  }
 },
 "nbformat": 4,
 "nbformat_minor": 5
}
